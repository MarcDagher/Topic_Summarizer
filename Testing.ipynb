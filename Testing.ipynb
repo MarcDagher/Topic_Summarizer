{
 "cells": [
  {
   "cell_type": "code",
   "execution_count": 1,
   "metadata": {},
   "outputs": [],
   "source": [
    "# LangChain\n",
    "from langchain_groq import ChatGroq\n",
    "from langchain_community.tools.tavily_search import TavilySearchResults\n",
    "from langchain_core.messages import AnyMessage, AIMessage, HumanMessage, SystemMessage, ToolMessage\n",
    "\n",
    "# LangGraph\n",
    "from langgraph.graph import StateGraph, END\n",
    "from langgraph.checkpoint.memory import MemorySaver\n",
    "\n",
    "\n",
    "# General\n",
    "import ast\n",
    "import operator\n",
    "import datetime\n",
    "from FastAPI_Helpers import prompts\n",
    "from typing import TypedDict, Annotated\n",
    "from IPython.display import Image, display"
   ]
  },
  {
   "cell_type": "code",
   "execution_count": 2,
   "metadata": {},
   "outputs": [],
   "source": [
    "class AgentState(TypedDict):\n",
    "  conversation: Annotated[list[AnyMessage], operator.add]"
   ]
  },
  {
   "cell_type": "code",
   "execution_count": 3,
   "metadata": {},
   "outputs": [],
   "source": [
    "class Agent:\n",
    "  def __init__(self, model, tools, system_prompt):\n",
    "\n",
    "    self.model = model.bind_tools(tools)\n",
    "    self.system_prompt = system_prompt\n",
    "    self.tools = {tool.name: tool for tool in tools}\n",
    "\n",
    "    memory = MemorySaver()\n",
    "\n",
    "    graph = StateGraph(state_schema=AgentState)\n",
    "    \n",
    "    graph.add_node('LLM', self.use_model)\n",
    "    graph.add_node('ToolBox', self.use_tools)\n",
    "\n",
    "    graph.add_conditional_edges('LLM', self.validate_tools, {True:'ToolBox', False: END})\n",
    "    graph.add_edge('ToolBox', 'LLM')\n",
    "    graph.set_entry_point('LLM')\n",
    "\n",
    "    self.graph = graph.compile(checkpointer=memory)\n",
    "    display(Image(self.graph.get_graph().draw_mermaid_png()))\n",
    "  \n",
    "  ## Talk to the model\n",
    "  def use_model(self, state: AgentState):\n",
    "\n",
    "    messages = [SystemMessage(content=self.system_prompt)] + state['conversation']\n",
    "    ai_response = self.model.invoke(messages)\n",
    "\n",
    "    return {'conversation': [ai_response]}\n",
    "  \n",
    "  ## Checks if model wants to use tools\n",
    "  def validate_tools(self, state: AgentState):\n",
    "    if len(state['conversation'][-1].tool_calls) > 0:\n",
    "      return True\n",
    "    else:\n",
    "      return False\n",
    "  \n",
    "  ## Checks if tools exist. If yes, uses them. Otherwise, tells the LLM to retry\n",
    "  def use_tools(self, state: AgentState):\n",
    "    \n",
    "    tool_calls = state['conversation'][-1].tool_calls\n",
    "    results = []\n",
    "  \n",
    "    for tool in tool_calls:\n",
    "      # Use the tool\n",
    "      if tool['name'] in self.tools:\n",
    "        print(f\"---- Calling: {tool['name']}\")\n",
    "        result = self.tools[tool['name']].invoke(tool['args'])\n",
    "\n",
    "      # Tell the LLM to retry    \n",
    "      else:\n",
    "        print(f\"---- Error, tool name not found: {tool['name']}\")\n",
    "        result = \"tool name not found in list of tools. retry your tool use.\"\n",
    "\n",
    "      # Save the returned output\n",
    "      results.append(ToolMessage(name=tool['name'], tool_call_id=tool['id'], content=str(result)))\n",
    "\n",
    "    return {'conversation': results}\n",
    "  "
   ]
  },
  {
   "cell_type": "code",
   "execution_count": 4,
   "metadata": {},
   "outputs": [
    {
     "data": {
      "image/jpeg": "[encoded data removed]",
      "text/plain": [
       "<IPython.core.display.Image object>"
      ]
     },
     "metadata": {},
     "output_type": "display_data"
    }
   ],
   "source": [
    "# model = ChatGroq(model=\"mixtral-8x7b-32768\", temperature=0.2)\n",
    "model = ChatGroq(model=\"llama3-70b-8192\", temperature=0.2)\n",
    "\n",
    "tavily_search_client = TavilySearchResults(max_results=5)\n",
    "\n",
    "agent = Agent(model=model, tools=[tavily_search_client], system_prompt=prompts.searcher_prompt.format(todays_date=str(datetime.datetime.now().date())))"
   ]
  },
  {
   "cell_type": "code",
   "execution_count": 11,
   "metadata": {},
   "outputs": [],
   "source": [
    "config = {\"configurable\": {\"thread_id\": \"1\"}}\n",
    "response = []\n",
    "for event in agent.graph.stream({\"conversation\": [HumanMessage(content=str(\"What were we talking about?\"))]}, config, stream_mode=\"values\"):\n",
    "    response.append(event[\"conversation\"][-1])"
   ]
  },
  {
   "cell_type": "code",
   "execution_count": 12,
   "metadata": {},
   "outputs": [
    {
     "name": "stdout",
     "output_type": "stream",
     "text": [
      "We were discussing psychology fields that are in high demand. I provided some initial information on three fields: Vocational/Career Counselor, Psychologists in Equity, Diversity, and Inclusion (EDI) roles, and Sport Psychology. You then asked me to explain each of these fields in more detail, and I started by providing more information on Vocational/Career Counselors using a tool to gather relevant information.\n"
     ]
    }
   ],
   "source": [
    "state = agent.graph.get_state(config=config).values\n",
    "print(state['conversation'][-1].content)"
   ]
  }
 ],
 "metadata": {
  "kernelspec": {
   "display_name": "Python 3",
   "language": "python",
   "name": "python3"
  },
  "language_info": {
   "codemirror_mode": {
    "name": "ipython",
    "version": 3
   },
   "file_extension": ".py",
   "mimetype": "text/x-python",
   "name": "python",
   "nbconvert_exporter": "python",
   "pygments_lexer": "ipython3",
   "version": "3.10.7"
  }
 },
 "nbformat": 4,
 "nbformat_minor": 2
}
